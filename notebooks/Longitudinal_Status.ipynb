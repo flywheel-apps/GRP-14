{
 "cells": [
  {
   "cell_type": "code",
   "execution_count": null,
   "metadata": {
    "cellView": "form",
    "colab": {},
    "colab_type": "code",
    "id": "VuzVEGddhkcm"
   },
   "outputs": [],
   "source": [
    "import flywheel \n",
    "\n",
    "fw = flywheel.Client('YourAPIkeyHere')"
   ]
  },
  {
   "cell_type": "code",
   "execution_count": null,
   "metadata": {},
   "outputs": [],
   "source": [
    "found = 0\n",
    "found_okay = 0\n",
    "for job in fw.jobs.iter_find('gear_info.name=grp-14'):  # ,gear_info.version=0.0.8_6.0.1-5\n",
    "    found += 1\n",
    "    destination_id = job['config']['destination']['id']\n",
    "    analysis = fw.get(destination_id)\n",
    "    parent_id = analysis.parent.id\n",
    "    parent_type = analysis.parent.type\n",
    "    parent = fw.get(parent_id)\n",
    "    try:\n",
    "        project = fw.get(parent.project)\n",
    "        project_label = project.label\n",
    "    except AttributeError:\n",
    "        project_label = \"unknown\"\n",
    "    print(f'\\njob {job.id}, destination {destination_id}, gear version {job.gear_info.version}')\n",
    "    print('analysis parent = ' + parent_type + ' ' + parent.label + ', project = ' + project_label)\n",
    "    if analysis.info:\n",
    "        found_okay += 1\n",
    "        for kk,vv in analysis.info.items():\n",
    "            print(f'  {kk:>20} : {vv.rstrip()}')\n",
    "    else:\n",
    "        print(f'  analysis.info = {analysis.info}')\n",
    "print(f'\\nFound {found} jobs.  {found_okay} had status.')"
   ]
  }
 ],
 "metadata": {
  "kernelspec": {
   "display_name": "Python 3",
   "language": "python",
   "name": "python3"
  },
  "language_info": {
   "codemirror_mode": {
    "name": "ipython",
    "version": 3
   },
   "file_extension": ".py",
   "mimetype": "text/x-python",
   "name": "python",
   "nbconvert_exporter": "python",
   "pygments_lexer": "ipython3",
   "version": "3.7.4"
  }
 },
 "nbformat": 4,
 "nbformat_minor": 4
}
